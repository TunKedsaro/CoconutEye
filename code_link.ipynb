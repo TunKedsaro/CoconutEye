{
 "cells": [
  {
   "cell_type": "markdown",
   "metadata": {},
   "source": [
    "## Project ที่ต้องแกะด่วน"
   ]
  },
  {
   "cell_type": "markdown",
   "metadata": {},
   "source": [
    "https://www.kaggle.com/code/ryzer97/avengers-deepface-98-accuracy/notebook # อันนี้แกะด่วน\n",
    "https://www.kaggle.com/code/amankumarmallik/one-shot-learning-for-face-verification  # อันนี้น่าแกะ *\n",
    "https://www.kaggle.com/code/farzadnekouei/facial-attribute-analysis-with-mask-detection # เรื่อง mask น่าสนใจ\n",
    "https://www.kaggle.com/code/serengil/age-prediction-with-deepface\n",
    "https://www.kaggle.com/code/rasethi/face-recognition # อันนี้น่าสนเหมือนว่าจะเป็นการ train\n",
    "https://www.kaggle.com/code/rohandubey26/deepface    # เหมือนอันนี้จะใช้ได้เอาอันนี้มาใช้สำหรับการ เทียบหน้าได้\n",
    "https://www.kaggle.com/code/lavagod/arne-svenson-prisoners-tutorial  # อันนี้ไม่ยาวน่าสนลองแกะ\n",
    "https://www.kaggle.com/code/mpwolke/faces-with-mediapipe    # face detection\n",
    "https://www.kaggle.com/code/arkhanzada/facial-emotions-classification-affectnet-dataset   # ลองแกะโค้ดอันนี้ มันเป็น Emotion แต่ว่าตัว code มีอะไรหลายๆอย่างให้ แกะให้เรียนรู้\n",
    "https://www.kaggle.com/code/serengil/olivetti-dataset-with-deepface\n",
    "https://www.kaggle.com/code/stpeteishii/multiple-face-detection-by-deepface # อันนี่น่าสน"
   ]
  },
  {
   "cell_type": "markdown",
   "metadata": {},
   "source": [
    "# Project ที่อาจจะเป็น Ref"
   ]
  },
  {
   "cell_type": "markdown",
   "metadata": {},
   "source": [
    "https://www.kaggle.com/code/benjaminbtang/deepface-for-fer2013-86-87 # ตัวอย่างของการ train model\n",
    "https://www.kaggle.com/code/mpwolke/anime-faces-recognition-attempt\n",
    "https://www.kaggle.com/code/farzadnekouei/facial-attribute-analysis-with-mask-detection\n",
    "https://www.kaggle.com/code/amankumarmallik/one-shot-learning-for-face-verification"
   ]
  },
  {
   "cell_type": "markdown",
   "metadata": {},
   "source": [
    "# ลองเล่น"
   ]
  },
  {
   "cell_type": "markdown",
   "metadata": {},
   "source": [
    "https://www.kaggle.com/code/ankitp013/age-and-gender-prediction-using-deepface\n",
    "https://www.kaggle.com/code/youssefismail20/synthetic-human-portraits # อันนี้น่าสน ไม่\n",
    "https://www.kaggle.com/code/erenakbulut/lego-face-mesh-extraction-using-mediapipe # อันนี้น่าสน เป็น face mesh น่าจะเอาไปใช้งานได้"
   ]
  }
 ],
 "metadata": {
  "language_info": {
   "name": "python"
  }
 },
 "nbformat": 4,
 "nbformat_minor": 2
}
