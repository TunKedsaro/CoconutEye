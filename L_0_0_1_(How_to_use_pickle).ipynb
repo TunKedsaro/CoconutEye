{
  "nbformat": 4,
  "nbformat_minor": 0,
  "metadata": {
    "colab": {
      "provenance": []
    },
    "kernelspec": {
      "name": "python3",
      "display_name": "Python 3"
    },
    "language_info": {
      "name": "python"
    }
  },
  "cells": [
    {
      "cell_type": "markdown",
      "source": [
        "# What is python object\n",
        "## 1 basic data types\n",
        "- int,bool\n",
        "- float\n",
        "- str\n",
        "- NoneType\n",
        "\n",
        "## 2 Containers (Collections)\n",
        "- List\n",
        "- tuple\n",
        "- dict\n",
        "- set\n",
        "\n",
        "## 3 Functions\n",
        "\n",
        "## 4 Classes and Instances\n",
        "\n",
        "## 5 Modules and Packages\n",
        "\n",
        "## 6 File Handles (Partial Pickling)"
      ],
      "metadata": {
        "id": "RkpNHJ6-Z4oS"
      }
    },
    {
      "cell_type": "markdown",
      "source": [
        "# Step 1 : Pickling (Encoding)"
      ],
      "metadata": {
        "id": "_MWYaJ6oWPWE"
      }
    },
    {
      "cell_type": "markdown",
      "source": [
        "<li><code>pickle.dump()</code> : save pickled object to a file</li>\n",
        "<li>pickle.dumps() : save pickled object as a byte stream</li>"
      ],
      "metadata": {
        "id": "_132wx5KXO6q"
      }
    },
    {
      "cell_type": "code",
      "execution_count": 1,
      "metadata": {
        "id": "OsUZ_EOBVgff"
      },
      "outputs": [],
      "source": [
        "import pickle"
      ]
    },
    {
      "cell_type": "code",
      "source": [
        "data = {\n",
        "    \"name\":\"Arya\",\n",
        "    \"age\":18,\n",
        "    \"skills\":[\"sword fighting\",\"stealth\"]\n",
        "}"
      ],
      "metadata": {
        "id": "v8oXoi3zVmY8"
      },
      "execution_count": 2,
      "outputs": []
    },
    {
      "cell_type": "code",
      "source": [
        "with open(\"data.pickle\",\"wb\") as f:      # \"wb\" : write in binary mode\n",
        "    pickle.dump(data,f)"
      ],
      "metadata": {
        "id": "dtHO8ANqV0X8"
      },
      "execution_count": 3,
      "outputs": []
    },
    {
      "cell_type": "code",
      "source": [
        "# pickled_data = pickle.dumps(data)\n",
        "# print(pickled_data)"
      ],
      "metadata": {
        "colab": {
          "base_uri": "https://localhost:8080/"
        },
        "id": "OSXG1L2BWCoZ",
        "outputId": "2e8559db-e9e1-4888-92ec-b2fc18554c72"
      },
      "execution_count": 4,
      "outputs": [
        {
          "output_type": "stream",
          "name": "stdout",
          "text": [
            "b'\\x80\\x04\\x95C\\x00\\x00\\x00\\x00\\x00\\x00\\x00}\\x94(\\x8c\\x04name\\x94\\x8c\\x04Arya\\x94\\x8c\\x03age\\x94K\\x12\\x8c\\x06skills\\x94]\\x94(\\x8c\\x0esword fighting\\x94\\x8c\\x07stealth\\x94eu.'\n"
          ]
        }
      ]
    },
    {
      "cell_type": "markdown",
      "source": [
        "# Step 2 : Unpickling (Decoding)"
      ],
      "metadata": {
        "id": "GChQxhpZW0e1"
      }
    },
    {
      "cell_type": "markdown",
      "source": [
        "<li><code>pickle.load()</code> : used to loading from a file</li>\n",
        "<li>pickle.loads() : used when loading from an in-memory byte stream</li>"
      ],
      "metadata": {
        "id": "3rBUc84tXCDV"
      }
    },
    {
      "cell_type": "code",
      "source": [
        "import pickle"
      ],
      "metadata": {
        "id": "kPxbgcj3WN0J"
      },
      "execution_count": null,
      "outputs": []
    },
    {
      "cell_type": "code",
      "source": [
        "with open(\"data.pickle\",\"rb\") as f:\n",
        "    loaded_data = pickle.load(f)\n",
        "    print(loaded_data)"
      ],
      "metadata": {
        "colab": {
          "base_uri": "https://localhost:8080/"
        },
        "id": "undq6TNMXxJ_",
        "outputId": "745aebde-df4b-4f62-e284-118d42954bf4"
      },
      "execution_count": 5,
      "outputs": [
        {
          "output_type": "stream",
          "name": "stdout",
          "text": [
            "{'name': 'Arya', 'age': 18, 'skills': ['sword fighting', 'stealth']}\n"
          ]
        }
      ]
    },
    {
      "cell_type": "code",
      "source": [
        "unpickled_data = pickle.loads(pickled_data)\n",
        "print(unpickled_data)"
      ],
      "metadata": {
        "colab": {
          "base_uri": "https://localhost:8080/"
        },
        "id": "PIejMxtAX-tw",
        "outputId": "70d88115-537c-4eff-cadd-869ad713b1e6"
      },
      "execution_count": 6,
      "outputs": [
        {
          "output_type": "stream",
          "name": "stdout",
          "text": [
            "{'name': 'Arya', 'age': 18, 'skills': ['sword fighting', 'stealth']}\n"
          ]
        }
      ]
    },
    {
      "cell_type": "markdown",
      "source": [
        "<hr>"
      ],
      "metadata": {
        "id": "3DhdvNtSYysi"
      }
    },
    {
      "cell_type": "code",
      "source": [
        "my_list = [1,2,3,4,5]\n",
        "\n",
        "# Pickling\n",
        "with open(\"my_list.pickle\",\"wb\") as f:\n",
        "    pickle.dump(my_list,f)\n",
        "\n",
        "# Unpickling\n",
        "with open(\"my_list.pickle\",\"rb\") as f:\n",
        "    loaded_list = pickle.load(f)\n",
        "\n",
        "print(loaded_list)"
      ],
      "metadata": {
        "colab": {
          "base_uri": "https://localhost:8080/"
        },
        "id": "VjgXBu05YzjI",
        "outputId": "3370631d-cf7c-4d10-ba90-438b5cb891f0"
      },
      "execution_count": 7,
      "outputs": [
        {
          "output_type": "stream",
          "name": "stdout",
          "text": [
            "[1, 2, 3, 4, 5]\n"
          ]
        }
      ]
    },
    {
      "cell_type": "markdown",
      "source": [],
      "metadata": {
        "id": "lCYrdgNmZ3OH"
      }
    }
  ]
}